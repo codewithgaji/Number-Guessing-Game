{
 "cells": [
  {
   "cell_type": "markdown",
   "id": "b9073dcb",
   "metadata": {},
   "source": [
    "# Number Guessing Game"
   ]
  },
  {
   "cell_type": "code",
   "execution_count": 1,
   "id": "c9eef24d",
   "metadata": {},
   "outputs": [
    {
     "name": "stdout",
     "output_type": "stream",
     "text": [
      "Welcome to Gaji's Guessing Game :)\n",
      "You get to choose a number between 1 and 50.\n",
      "If the number is correct, you win. You have 3 attempts!\n",
      "Choose a number between 1 & 50: 5\n",
      "The number is higher, go higher!\n",
      "Choose a number between 1 & 50: 10\n",
      "The number is lower, go lower!\n",
      "Choose a number between 1 & 50: 7\n",
      "The number is lower, go lower!\n",
      "Sorry, you're out of attempts. The correct number was 6.\n",
      "Game Over!\n"
     ]
    }
   ],
   "source": [
    "import random\n",
    "\n",
    "def num_game():\n",
    "    print(\"Welcome to Toirat Guessing Game :)\")\n",
    "    print(\"You get to choose a number between 1 and 50.\")\n",
    "    print(\"If the number is correct, you win. You have 3 attempts!\")\n",
    "    \n",
    "    attempts = 0\n",
    "    max_attempts = 3\n",
    "    choice = random.randint(1, 51)  # Generate the random number once per game\n",
    "    \n",
    "    while attempts < max_attempts:\n",
    "        try:\n",
    "            player = int(input(\"Choose a number between 1 & 50: \"))\n",
    "            if player < 1 or player > 50:  # Check if the input is out of range\n",
    "                print(\"Please choose a number between 1 & 50.\")\n",
    "                continue\n",
    "            attempts += 1\n",
    "            if player == choice:\n",
    "                print(\"Congratulations, you win!\")\n",
    "                break\n",
    "            elif player < choice:\n",
    "                print(\"The number is higher, go higher!\")\n",
    "            else:  # player > choice\n",
    "                print(\"The number is lower, go lower!\")\n",
    "        except ValueError:  # Handle non-integer input\n",
    "            print(\"Invalid input! Only integer values are accepted.\")\n",
    "            continue\n",
    "    \n",
    "    if attempts == max_attempts and player != choice:\n",
    "        print(f\"Sorry, you're out of attempts. The correct number was {choice}.\")\n",
    "    print(\"Game Over!\")\n",
    "\n",
    "num_game()\n"
   ]
  },
  {
   "cell_type": "code",
   "execution_count": null,
   "id": "e2107c41",
   "metadata": {},
   "outputs": [],
   "source": []
  }
 ],
 "metadata": {
  "kernelspec": {
   "display_name": "Python 3 (ipykernel)",
   "language": "python",
   "name": "python3"
  },
  "language_info": {
   "codemirror_mode": {
    "name": "ipython",
    "version": 3
   },
   "file_extension": ".py",
   "mimetype": "text/x-python",
   "name": "python",
   "nbconvert_exporter": "python",
   "pygments_lexer": "ipython3",
   "version": "3.9.12"
  }
 },
 "nbformat": 4,
 "nbformat_minor": 5
}
